{
 "cells": [
  {
   "cell_type": "code",
   "execution_count": 1,
   "metadata": {},
   "outputs": [],
   "source": [
    "import gdown"
   ]
  },
  {
   "cell_type": "code",
   "execution_count": 3,
   "metadata": {},
   "outputs": [],
   "source": [
    "url='https://drive.google.com/file/d/1L5F8J2ovgQZo1_6N2GE_Y_2cmtt6NRML/view?usp=share_link'"
   ]
  },
  {
   "cell_type": "code",
   "execution_count": 6,
   "metadata": {},
   "outputs": [
    {
     "data": {
      "text/plain": [
       "'1L5F8J2ovgQZo1_6N2GE_Y_2cmtt6NRML'"
      ]
     },
     "execution_count": 6,
     "metadata": {},
     "output_type": "execute_result"
    }
   ],
   "source": [
    "file_id=url.split('/')[-2]\n",
    "file_id"
   ]
  },
  {
   "cell_type": "code",
   "execution_count": 7,
   "metadata": {},
   "outputs": [
    {
     "name": "stderr",
     "output_type": "stream",
     "text": [
      "Downloading...\n",
      "From (uriginal): https://drive.google.com/uc?/export=download&id=1L5F8J2ovgQZo1_6N2GE_Y_2cmtt6NRML\n",
      "From (redirected): https://drive.google.com/uc?/export=download&id=1L5F8J2ovgQZo1_6N2GE_Y_2cmtt6NRML&confirm=t&uuid=d8df7226-63a1-4532-aecb-223cfe0cffee\n",
      "To: c:\\Users\\soubh\\Documents\\CodeLib\\BreadBoard\\research\\images.zip\n",
      "100%|██████████| 114M/114M [00:19<00:00, 5.97MB/s] \n"
     ]
    },
    {
     "data": {
      "text/plain": [
       "'images.zip'"
      ]
     },
     "execution_count": 7,
     "metadata": {},
     "output_type": "execute_result"
    }
   ],
   "source": [
    "prefix='https://drive.google.com/uc?/export=download&id='\n",
    "gdown.download(prefix+file_id,'images.zip')"
   ]
  }
 ],
 "metadata": {
  "kernelspec": {
   "display_name": "env1",
   "language": "python",
   "name": "python3"
  },
  "language_info": {
   "codemirror_mode": {
    "name": "ipython",
    "version": 3
   },
   "file_extension": ".py",
   "mimetype": "text/x-python",
   "name": "python",
   "nbconvert_exporter": "python",
   "pygments_lexer": "ipython3",
   "version": "3.11.5"
  }
 },
 "nbformat": 4,
 "nbformat_minor": 2
}
